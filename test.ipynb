{
 "cells": [
  {
   "cell_type": "code",
   "execution_count": 6,
   "id": "e35c160e",
   "metadata": {},
   "outputs": [],
   "source": [
    "from openai import OpenAI\n",
    "\n",
    "openai = OpenAI()"
   ]
  },
  {
   "cell_type": "code",
   "execution_count": 4,
   "id": "ee35eabd",
   "metadata": {},
   "outputs": [],
   "source": [
    "from dotenv import load_dotenv\n",
    "\n",
    "load_dotenv()\n",
    "\n",
    "from openai import OpenAI\n",
    "\n",
    "client = OpenAI(base_url=\"https://api.ai.it.cornell.edu/\", api_key=\"sk-e_AyqgfnVCrIOYpdWTU3dg\")"
   ]
  },
  {
   "cell_type": "code",
   "execution_count": 10,
   "id": "cacaf5e9",
   "metadata": {},
   "outputs": [
    {
     "name": "stdout",
     "output_type": "stream",
     "text": [
      "Hi there! How can I assist you today? 😊\n"
     ]
    }
   ],
   "source": [
    "response = client.chat.completions.create(\n",
    "    model=\"openai.gpt-4o\",\n",
    "    messages=[\n",
    "        {\"role\": \"system\", \"content\": \"You are a helpful assistant.\"},\n",
    "        {\"role\": \"user\", \"content\": \"Hello?\"},\n",
    "    ],\n",
    "    temperature=0.7,\n",
    "    top_p=1,\n",
    ")\n",
    "\n",
    "print(response.choices[0].message.content)"
   ]
  },
  {
   "cell_type": "code",
   "execution_count": 12,
   "id": "532c89c2",
   "metadata": {},
   "outputs": [
    {
     "name": "stdout",
     "output_type": "stream",
     "text": [
      "This transcript captures a university class session on AI and programming. The instructor discusses various aspects of AI models, particularly focusing on OpenAI's platforms and APIs.\n",
      "\n",
      "Key points from the lecture:\n",
      "\n",
      "1. The class begins with students sharing their AI experiences, including using Gemini, ChatGPT for design work, and using AI to find email addresses.\n",
      "\n",
      "2. The instructor demonstrates NanoBanana (Gemini's image generation model) and discusses its implications for security and identity verification.\n",
      "\n",
      "3. The lecture covers technical aspects of using OpenAI's SDK, explaining:\n",
      "   - The difference between the Responses API and Chat Completions API\n",
      "   - How to maintain conversation context in AI applications\n",
      "   - System prompts vs. developer prompts\n",
      "   - Token pricing models (input vs. output tokens)\n",
      "\n",
      "4. The instructor explains how ChatGPT differs from directly using the API:\n",
      "   - ChatGPT may add additional system prompts\n",
      "   - When using the API directly, developers have more control\n",
      "   - ChatGPT has a flat fee model while API use is charged per token\n",
      "\n",
      "5. The class discusses the computational costs of AI processing and whether input token length significantly affects processing power requirements.\n",
      "\n",
      "6. The instructor mentions upcoming course logistics, including a Zoom session on Thursday and a development environment setup session the following Tuesday.\n",
      "\n",
      "The session combines theoretical concepts about AI with practical demonstrations of code implementation, preparing students to build their own AI applications.\n"
     ]
    }
   ],
   "source": [
    "transcript = open(\"data/combined_transcript.txt\", encoding=\"utf-8\").read()\n",
    "\n",
    "response = client.chat.completions.create(\n",
    "    model=\"anthropic.claude-3.7-sonnet\",\n",
    "    messages=[\n",
    "        {\"role\": \"system\", \"content\": \"You can summarize the paragraph.\"},\n",
    "        {\"role\": \"user\", \"content\": transcript},\n",
    "    ],\n",
    "    temperature=0.7,\n",
    "    top_p=1,\n",
    ")\n",
    "\n",
    "print(response.choices[0].message.content)"
   ]
  }
 ],
 "metadata": {
  "kernelspec": {
   "display_name": "Python 3",
   "language": "python",
   "name": "python3"
  },
  "language_info": {
   "codemirror_mode": {
    "name": "ipython",
    "version": 3
   },
   "file_extension": ".py",
   "mimetype": "text/x-python",
   "name": "python",
   "nbconvert_exporter": "python",
   "pygments_lexer": "ipython3",
   "version": "3.11.13"
  }
 },
 "nbformat": 4,
 "nbformat_minor": 5
}
