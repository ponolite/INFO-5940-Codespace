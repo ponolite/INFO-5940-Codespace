{
 "cells": [
  {
   "cell_type": "code",
   "execution_count": null,
   "id": "e35c160e",
   "metadata": {},
   "outputs": [],
   "source": [
    "import openai"
   ]
  },
  {
   "cell_type": "code",
   "execution_count": 4,
   "id": "ee35eabd",
   "metadata": {},
   "outputs": [],
   "source": [
    "from dotenv import load_dotenv\n",
    "\n",
    "load_dotenv()\n",
    "\n",
    "from openai import OpenAI\n",
    "\n",
    "client = OpenAI(base_url=\"https://api.ai.it.cornell.edu/\", api_key=\"sk-S2be4oPLGQLTWQsLc1gSlw\")"
   ]
  },
  {
   "cell_type": "code",
   "execution_count": 8,
   "id": "cacaf5e9",
   "metadata": {},
   "outputs": [
    {
     "name": "stdout",
     "output_type": "stream",
     "text": [
      ". I'm a pirate-speaking AI assistant. I'll be responding to your messages in a pirate-like manner, using phrases like \"Arr,\" \"matey,\" and other pirate expressions. Feel free to ask me anything, and I'll do my best to help you while staying in character as a friendly pirate!\n"
     ]
    }
   ],
   "source": [
    "response = client.chat.completions.create(\n",
    "    model=\"anthropic.claude-3.7-sonnet\",\n",
    "    messages=[\n",
    "        {\"rote\": \"system\", \"content\": \"you only respond in Pirate\"},\n",
    "        {\"rote\": \"user\", \"content\": \"Hi, I'm Zach\"},\n",
    "    ],\n",
    "    temperature=0.7,\n",
    "    top_p=1,\n",
    ")\n",
    "\n",
    "print(response.choices[0].message.content)"
   ]
  },
  {
   "cell_type": "code",
   "execution_count": null,
   "id": "532c89c2",
   "metadata": {},
   "outputs": [],
   "source": [
    "response"
   ]
  }
 ],
 "metadata": {
  "kernelspec": {
   "display_name": "Python 3",
   "language": "python",
   "name": "python3"
  },
  "language_info": {
   "codemirror_mode": {
    "name": "ipython",
    "version": 3
   },
   "file_extension": ".py",
   "mimetype": "text/x-python",
   "name": "python",
   "nbconvert_exporter": "python",
   "pygments_lexer": "ipython3",
   "version": "3.11.13"
  }
 },
 "nbformat": 4,
 "nbformat_minor": 5
}
