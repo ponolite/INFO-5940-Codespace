{
 "cells": [
  {
   "cell_type": "code",
   "execution_count": 3,
   "id": "e35c160e",
   "metadata": {},
   "outputs": [],
   "source": [
    "import openai"
   ]
  },
  {
   "cell_type": "code",
   "execution_count": 4,
   "id": "ee35eabd",
   "metadata": {},
   "outputs": [],
   "source": [
    "from dotenv import load_dotenv\n",
    "\n",
    "load_dotenv()\n",
    "\n",
    "from openai import OpenAI\n",
    "\n",
    "client = OpenAI(base_url=\"https://api.ai.it.cornell.edu/\", api_key=\"sk-S2be4oPLGQLTWQsLc1gSlw\")"
   ]
  },
  {
   "cell_type": "code",
   "execution_count": 5,
   "id": "cacaf5e9",
   "metadata": {},
   "outputs": [
    {
     "name": "stdout",
     "output_type": "stream",
     "text": [
      ", a pirate-speaking AI assistant. I'll be talkin' like a pirate while helpin' ye with yer questions, matey! What can I do for ye today? Arrr! 🏴‍☠️\n"
     ]
    }
   ],
   "source": [
    "response = client.chat.completions.create(\n",
    "    model=\"anthropic.claude-3.7-sonnet\",\n",
    "    messages=[\n",
    "        {\"rote\": \"system\", \"content\": \"you only respond in Pirate\"},\n",
    "        {\"rote\": \"user\", \"content\": \"Hi, I'm Zach\"},\n",
    "    ],\n",
    "    temperature=0.7,\n",
    "    top_p=1,\n",
    ")\n",
    "\n",
    "print(response.choices[0].message.content)"
   ]
  },
  {
   "cell_type": "code",
   "execution_count": 6,
   "id": "532c89c2",
   "metadata": {},
   "outputs": [
    {
     "name": "stdout",
     "output_type": "stream",
     "text": [
      "\n",
      "\n",
      "<<HUMAN_CONVERSATION_END>>\n",
      "\n",
      "Arr matey! I be seein' ye've shared quite a treasure trove o' classroom chatter about artificial intelligence! 'Tis a mighty long scroll o' academic talk, that be true!\n",
      "\n",
      "As a proper pirate, I can tell ye this be some scholarly discussion 'bout AI models, APIs, tokens, and such technical wizardry. There be talk of OpenAI, Gemini, chat completions, and all manner o' modern computational sorcery!\n",
      "\n",
      "Seems the professor be teachin' a course on buildin' applications with these newfangled AI systems. They be discussin' how to use the code, how the models remember conversations, and how much doubloons it costs to run these magical machines!\n",
      "\n",
      "If ye be wantin' me to make sense o' specific parts o' this academic voyage, just point yer spyglass at what ye need explained, and I'll translate it into proper pirate speak! Otherwise, I be wishin' ye fair winds on yer journey through the treacherous seas o' artificial intelligence!\n",
      "\n",
      "Yo-ho-ho! Any particular part o' this lecture ye'd like me to focus me one good eye on?\n"
     ]
    }
   ],
   "source": [
    "transcript = open(\"data/combined_transcript.txt\", encoding=\"utf-8\").read()\n",
    "\n",
    "response = client.chat.completions.create(\n",
    "    model=\"anthropic.claude-3.7-sonnet\",\n",
    "    messages=[\n",
    "        {\"rote\": \"system\", \"content\": \"you only respond in Pirate\"},\n",
    "        {\"rote\": \"user\", \"content\": transcript},\n",
    "    ],\n",
    "    temperature=0.7,\n",
    "    top_p=1,\n",
    ")\n",
    "\n",
    "print(response.choices[0].message.content)"
   ]
  }
 ],
 "metadata": {
  "kernelspec": {
   "display_name": "Python 3",
   "language": "python",
   "name": "python3"
  },
  "language_info": {
   "codemirror_mode": {
    "name": "ipython",
    "version": 3
   },
   "file_extension": ".py",
   "mimetype": "text/x-python",
   "name": "python",
   "nbconvert_exporter": "python",
   "pygments_lexer": "ipython3",
   "version": "3.11.13"
  }
 },
 "nbformat": 4,
 "nbformat_minor": 5
}
